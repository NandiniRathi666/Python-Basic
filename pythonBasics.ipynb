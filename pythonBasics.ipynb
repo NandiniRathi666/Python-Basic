{
  "nbformat": 4,
  "nbformat_minor": 0,
  "metadata": {
    "colab": {
      "provenance": []
    },
    "kernelspec": {
      "name": "python3",
      "display_name": "Python 3"
    },
    "language_info": {
      "name": "python"
    }
  },
  "cells": [
    {
      "cell_type": "markdown",
      "source": [
        "#python basic\n"
      ],
      "metadata": {
        "id": "eUAiH7zqF0QN"
      }
    },
    {
      "cell_type": "markdown",
      "source": [
        "1. What is Python, and why is it popular\n",
        "  - python is a  high level programming language,that is widely used in industries like data industries.\n",
        "  It is both object oriented and procedural oriented programming language.\n",
        "  it is easy to learn and understand the code.\n",
        "  it also has less syntax than other programming language making it user friendly.\n",
        "  It is popular because: it has lots of libraries like django,pandas,numpy,etc which makes it easier for user.we can also do data ananlysis using python.\n",
        "  it also helps in web development using python.\n",
        "  it is also used in automation industries.\n",
        "  also in maintaining databases.\n",
        "  it is also has huge active community,like it is used in almost big companies like google,netfkix,amazon for software davelopment and data analysis.\n",
        "  and also it is easy to learn.\n",
        "  2. What is an interpreter in Python\n",
        "  - python interpreter is a program that helps to convert python code into machine code,so that it is easy for development.\n",
        "  intepreter helps to convert code line by line rather than compling it all once so that it becomes easy fro users to debug the error.\n",
        "  3. What are pre-defined keywords in Python\n",
        "  - pre defined words are the special words in python language that holds a specific meaning in the language,these words are already defined,so that know one can use them,as the name of variables and functions,they are reseerved for python syntax and functionality. they are also known as reseved words.ex- for,while,true,false,else,break,import,continue,etc\n",
        "  4. Can keywords be used as variable names\n",
        "  - keyword are reserved words that has their own meaning,so by using them as the name of variables,it will create an issue in pythons syntax and hence will show an error,thats  why we can not use keywords as variable name.\n",
        "  5. What is mutability in Python\n",
        "  - In python mutablity means changeability of  any variable or object,that is the ability of a variable or object to change afterwards,for ex when we create a list we can change the contents of list.Dictionary is also mutable in python,we can also change its key,value.\n",
        "  6. Why are lists mutable, but tuples are immutable\n",
        "  - lists is mutable in python memaing it can change,grow,shrink. the mutability of the list is designed for ideal cases where the data needs to be frquently updated and managed for the easy access of the data but tuple are immutable that is that thay can not be changed,it is designed to ensure the data integrity,where in some cases no one else can chnage the data in order to maintain the integrity of data.\n",
        "  7.What is the difference between “==” and “is” operators in Python\n",
        "  - \"==\"operator is a Relational operator,which is used to check if the given two conditions are equal.and \"is\" operator is Identity operator which is ussed to check whether 2 variables refer to same memory location.\n",
        "\n",
        "\n",
        "\n"
      ],
      "metadata": {
        "id": "PaYWUtwpuSUp"
      }
    },
    {
      "cell_type": "code",
      "execution_count": 4,
      "metadata": {
        "colab": {
          "base_uri": "https://localhost:8080/"
        },
        "id": "mISUlyPhuLQg",
        "outputId": "6ce4ab1a-1685-4b71-af76-c94d2b05b7ae"
      },
      "outputs": [
        {
          "output_type": "stream",
          "name": "stdout",
          "text": [
            "48 is divisible by 2\n"
          ]
        },
        {
          "output_type": "execute_result",
          "data": {
            "text/plain": [
              "True"
            ]
          },
          "metadata": {},
          "execution_count": 4
        }
      ],
      "source": [
        "#ex.of ==\n",
        "if 48%2==0:\n",
        "  print(\"48 is divisible by 2\")\n",
        "#ex.of \"is\"\n",
        "x=\"hello\"\n",
        "y=\"hello\"\n",
        "x is y\n",
        "\n"
      ]
    },
    {
      "cell_type": "markdown",
      "source": [
        "8.What are logical operators in Python\n",
        "- Logical operators are used to combine conditional statements and evaluate expressions based on their truth values. They return a Boolean value (True or False). Python provides three logical operators:\n",
        "  1. and (Logical AND)\n",
        "Returns True if both conditions are True else false.\n",
        "   2.or\n",
        "   Returns True if at least one condition is True.\n",
        "   3. not (Logical NOT)\n",
        "Reverses the Boolean value of the condition.\n"
      ],
      "metadata": {
        "id": "k3hQP5aKQ-Eh"
      }
    },
    {
      "cell_type": "code",
      "source": [
        "# \"and\" operator\n",
        "x=5\n",
        "y=6\n",
        "print(x>5 and y>x)\n",
        "\n",
        "#\"or\" operator\n",
        "x=5\n",
        "y=6\n",
        "print(x>5 or y>x)\n",
        "\n",
        "#\"not\"\n",
        "x=5\n",
        "print( not x>5 )"
      ],
      "metadata": {
        "colab": {
          "base_uri": "https://localhost:8080/"
        },
        "id": "uOJoR29lSBzA",
        "outputId": "5360135d-e666-4e0e-88d5-e1247de82b6a"
      },
      "execution_count": 10,
      "outputs": [
        {
          "output_type": "stream",
          "name": "stdout",
          "text": [
            "False\n",
            "True\n",
            "True\n"
          ]
        }
      ]
    },
    {
      "cell_type": "markdown",
      "source": [
        "9. What is type casting in Python\n",
        "- type casting or type conversion in python means converting variable from one data type to another data type.ex we can can convert any data type into any other data type like integer in string,integer in float and etc.type casting can be done in two types:\n",
        "  1. implicit type conversion :  It is handled by Python without user intervention.\n",
        "  2. Explicit type conversion :It is handled by user intervention.\n",
        "10. What is the difference between implicit and explicit type casting\n",
        "- 1. Implicit type conversion: it is handled by Python without user intervention.\n",
        " This happens automatically when Python converts a smaller data type into a larger data type to prevent data loss.\n",
        " 2.Explicit type conversion :It is handled by user.This is done by the programmer using built-in functions like int(), float(), str(),list(),tuple(), etc\n",
        "\n",
        "11. What is the purpose of conditional statements in Python\n",
        " - Conditional statements helps in decision-making  by executing code blocks based on conditions.some conditional statemnets are:\n",
        "   1. If(): if statement executes a block of code if the condition evaluates to True.\n",
        "   2. else-if(): if the if() condition is true then if()block will execute otherwise else()block will execute the  code.\n",
        "   3. if-elif-else: if the if() condition is true then if()block will execute.if the elif() condition is true,elif() block will execute the  code.otherwise else()block will execute the  code.\n",
        "12. How does the elif statement work\n",
        "\n",
        "  \n"
      ],
      "metadata": {
        "id": "jEg0SE5HT_Ky"
      }
    },
    {
      "cell_type": "code",
      "source": [
        "#elif\n",
        "a = 2\n",
        "b = 2\n",
        "\n",
        "if b > a:\n",
        "  print(\"b is greater than a\")\n",
        "elif a == b:\n",
        "  print(\"a and b are equal\")\n",
        "else:\n",
        "  print(\"a is greater than b\")\n",
        "\n",
        "\n",
        "\n",
        "\n"
      ],
      "metadata": {
        "colab": {
          "base_uri": "https://localhost:8080/"
        },
        "id": "33YjMk4sZpgA",
        "outputId": "60d3eb82-c535-4577-a9ea-d14e62b6c093"
      },
      "execution_count": 11,
      "outputs": [
        {
          "output_type": "stream",
          "name": "stdout",
          "text": [
            "a and b are equal\n"
          ]
        }
      ]
    },
    {
      "cell_type": "markdown",
      "source": [
        "13.  What is the difference between for and while loops\n",
        "for loop: iterates the loop for sequence and executes the block of code for each item in the sequence.\n",
        "  while loop: it iterates the loop until a condition is met.in while loop the user does not know for how many times the loop will run."
      ],
      "metadata": {
        "id": "cTLFcS5LaIXz"
      }
    },
    {
      "cell_type": "code",
      "source": [
        "#for loop\n",
        "x=range(5)\n",
        "for i in x:\n",
        "  print(i)\n",
        ""
      ],
      "metadata": {
        "colab": {
          "base_uri": "https://localhost:8080/"
        },
        "id": "cgE7d184bsoO",
        "outputId": "833a2080-ad5d-4093-b45d-2a96473513d6"
      },
      "execution_count": 21,
      "outputs": [
        {
          "output_type": "stream",
          "name": "stdout",
          "text": [
            "0\n",
            "1\n",
            "2\n",
            "3\n",
            "4\n"
          ]
        }
      ]
    },
    {
      "cell_type": "markdown",
      "source": [
        "14. Describe a scenario where a while loop is more suitable than a for loop"
      ],
      "metadata": {
        "id": "hvy0Kgslds6a"
      }
    },
    {
      "cell_type": "code",
      "source": [
        " #while is more suitable whenthe user dont know about the no. of times the code will execute.\n",
        " #program to check whether the no.enterd by the user is even\n",
        "n=int(input(\"enter a no\"))\n",
        "\n",
        "while n!=0:\n",
        "  if (n%2==0):\n",
        "    print(\"the no. is even\")\n",
        "elif:\n",
        "  print(\"the no. is odd\")\n",
        "else:()\n",
        "\n",
        ""
      ],
      "metadata": {
        "colab": {
          "base_uri": "https://localhost:8080/",
          "height": 228
        },
        "id": "CTdwM-ENZeHd",
        "outputId": "8621f39d-e437-434c-8802-2579599534eb"
      },
      "execution_count": 36,
      "outputs": [
        {
          "name": "stdout",
          "output_type": "stream",
          "text": [
            "enter a no3\n"
          ]
        },
        {
          "output_type": "error",
          "ename": "KeyboardInterrupt",
          "evalue": "",
          "traceback": [
            "\u001b[0;31m---------------------------------------------------------------------------\u001b[0m",
            "\u001b[0;31mKeyboardInterrupt\u001b[0m                         Traceback (most recent call last)",
            "\u001b[0;32m/tmp/ipython-input-36-683937796.py\u001b[0m in \u001b[0;36m<cell line: 0>\u001b[0;34m()\u001b[0m\n\u001b[1;32m      3\u001b[0m \u001b[0mn\u001b[0m\u001b[0;34m=\u001b[0m\u001b[0mint\u001b[0m\u001b[0;34m(\u001b[0m\u001b[0minput\u001b[0m\u001b[0;34m(\u001b[0m\u001b[0;34m\"enter a no\"\u001b[0m\u001b[0;34m)\u001b[0m\u001b[0;34m)\u001b[0m\u001b[0;34m\u001b[0m\u001b[0;34m\u001b[0m\u001b[0m\n\u001b[1;32m      4\u001b[0m \u001b[0;34m\u001b[0m\u001b[0m\n\u001b[0;32m----> 5\u001b[0;31m \u001b[0;32mwhile\u001b[0m \u001b[0mn\u001b[0m\u001b[0;34m!=\u001b[0m\u001b[0;36m0\u001b[0m\u001b[0;34m:\u001b[0m\u001b[0;34m\u001b[0m\u001b[0;34m\u001b[0m\u001b[0m\n\u001b[0m\u001b[1;32m      6\u001b[0m  \u001b[0;32mif\u001b[0m \u001b[0;34m(\u001b[0m\u001b[0mn\u001b[0m\u001b[0;34m%\u001b[0m\u001b[0;36m2\u001b[0m\u001b[0;34m==\u001b[0m\u001b[0;36m0\u001b[0m\u001b[0;34m)\u001b[0m\u001b[0;34m:\u001b[0m\u001b[0;34m\u001b[0m\u001b[0;34m\u001b[0m\u001b[0m\n\u001b[1;32m      7\u001b[0m    \u001b[0mprint\u001b[0m\u001b[0;34m(\u001b[0m\u001b[0;34m\"the no. is even\"\u001b[0m\u001b[0;34m)\u001b[0m\u001b[0;34m\u001b[0m\u001b[0;34m\u001b[0m\u001b[0m\n",
            "\u001b[0;31mKeyboardInterrupt\u001b[0m: "
          ]
        }
      ]
    },
    {
      "cell_type": "code",
      "source": [],
      "metadata": {
        "id": "VbrkpmvEfHvj"
      },
      "execution_count": null,
      "outputs": []
    },
    {
      "cell_type": "markdown",
      "source": [
        "#**PRACTICAL QUESTIONS**\n"
      ],
      "metadata": {
        "id": "FumtUCITfIKE"
      }
    },
    {
      "cell_type": "markdown",
      "source": [
        "1. Write a Python program to print \"Hello, World!\n"
      ],
      "metadata": {
        "id": "B-mDJoKtI3yr"
      }
    },
    {
      "cell_type": "code",
      "source": [
        "#1. Write a Python program to print \"Hello, World!\n",
        "print(\"Hello,world!\")"
      ],
      "metadata": {
        "colab": {
          "base_uri": "https://localhost:8080/"
        },
        "id": "aQZ_dDcpG4F6",
        "outputId": "eebdb042-5aae-49d9-abfe-5c8891245e4d"
      },
      "execution_count": 1,
      "outputs": [
        {
          "output_type": "stream",
          "name": "stdout",
          "text": [
            "Hello,world!\n"
          ]
        }
      ]
    },
    {
      "cell_type": "code",
      "source": [
        "#2. Write a Python program that displays your name and age\n",
        "name=input(\"enter your name: \")\n",
        "age=input(\"enter your age: \")\n",
        "print( f\" Name is {name}\")\n",
        "print(f\"Age is {age}\")\n"
      ],
      "metadata": {
        "colab": {
          "base_uri": "https://localhost:8080/"
        },
        "id": "FtBYj3ZsI7Fo",
        "outputId": "15b5e8aa-5905-4323-9cac-6ef286dfed68"
      },
      "execution_count": 4,
      "outputs": [
        {
          "output_type": "stream",
          "name": "stdout",
          "text": [
            "enter your name: nandini\n",
            "enter your age: 20\n",
            " Name isnandini\n",
            "Age is20\n"
          ]
        }
      ]
    },
    {
      "cell_type": "code",
      "source": [
        "# 3. Write code to print all the pre-defined keywords in Python using the keyword library\n",
        "print(\"python keywords :\")\n",
        "help(\"keywords\")"
      ],
      "metadata": {
        "colab": {
          "base_uri": "https://localhost:8080/"
        },
        "id": "1ofclEyyKmkU",
        "outputId": "8a2ea611-b659-40c3-ef12-3314fe0f7354"
      },
      "execution_count": 9,
      "outputs": [
        {
          "output_type": "stream",
          "name": "stdout",
          "text": [
            "python keywords :\n",
            "\n",
            "Here is a list of the Python keywords.  Enter any keyword to get more help.\n",
            "\n",
            "False               class               from                or\n",
            "None                continue            global              pass\n",
            "True                def                 if                  raise\n",
            "and                 del                 import              return\n",
            "as                  elif                in                  try\n",
            "assert              else                is                  while\n",
            "async               except              lambda              with\n",
            "await               finally             nonlocal            yield\n",
            "break               for                 not                 \n",
            "\n"
          ]
        }
      ]
    },
    {
      "cell_type": "code",
      "source": [
        "#4.Write a program that checks if a given word is a Python keyword.\n"
      ],
      "metadata": {
        "id": "lBsK25ckNNbA"
      },
      "execution_count": null,
      "outputs": []
    },
    {
      "cell_type": "code",
      "source": [
        "#5.Create a list and tuple in Python, and demonstrate how attempting to change an element works differently\n",
        "list1=[\"ajay\",1,2,3,4,5]\n",
        "tuple1=(\"ajay\",1,2,3,4,5)\n",
        "list1[0]=\"bijay\"\n",
        "list1[3]=101\n",
        "print(list1)#for list we can directly change the content because in pyhton list is mutable WHEREAS in tuple,Tuple is not mutable so we can not change its content\n",
        "# tuple1[0]=\"aakash\" >> This will throw an error\n"
      ],
      "metadata": {
        "colab": {
          "base_uri": "https://localhost:8080/"
        },
        "id": "m0wBTKJwIwxA",
        "outputId": "87c1deea-b56f-49d0-94f4-6899f76b2be4"
      },
      "execution_count": 21,
      "outputs": [
        {
          "output_type": "stream",
          "name": "stdout",
          "text": [
            "['bijay', 1, 2, 101, 4, 5]\n"
          ]
        }
      ]
    },
    {
      "cell_type": "code",
      "source": [
        "# 6.  Write a function to demonstrate the behavior of mutable and immutable arguments.\n"
      ],
      "metadata": {
        "id": "GWWAPRRhP-kz"
      },
      "execution_count": null,
      "outputs": []
    },
    {
      "cell_type": "code",
      "source": [
        "#7. Write a program that performs basic arithmetic operations on two user-input numbers.\n",
        "a=int(input(\"enter a number\"))\n",
        "b=int(input(\"enter a number\"))\n",
        "print(f\"sum of {a} and {b} is {a+b}\")\n",
        "print(f\"difference of {a} and {b} is {a-b}\")\n",
        "print(f\"product of {a} and {b} is {a*b}\")\n",
        "print(f\"division of {a} and {b} is {a/b}\")"
      ],
      "metadata": {
        "colab": {
          "base_uri": "https://localhost:8080/"
        },
        "id": "OASvDyqnW12r",
        "outputId": "31538bd6-3d65-4f7b-f8e3-7675e42bfeb2"
      },
      "execution_count": 22,
      "outputs": [
        {
          "output_type": "stream",
          "name": "stdout",
          "text": [
            "enter a number4\n",
            "enter a number3\n",
            "sum of 4 and 3 is 7\n",
            "difference of 4 and 3 is 1\n",
            "product of 4 and 3 is 12\n",
            "division of 4 and 3 is 1.3333333333333333\n"
          ]
        }
      ]
    },
    {
      "cell_type": "markdown",
      "source": [],
      "metadata": {
        "id": "0-r9m2mPOYEs"
      }
    },
    {
      "cell_type": "code",
      "source": [
        "#8. Write a program to demonstrate the use of logical operators.\n",
        "\n",
        " #logical operators (and, or, not):\n",
        "a = True\n",
        "b = False\n",
        "\n",
        "# Logical AND (Both must be True)\n",
        "print(\"Logical AND:\")\n",
        "print(f\"{a} and {b} = {a and b}\")\n",
        "\n",
        "# Logical OR (At least one must be True)\n",
        "print(\"\\nLogical OR:\")\n",
        "print(f\"{a} or {b} = {a or b}\")\n",
        "\n",
        "# Logical NOT(opposites the value)\n",
        "print(\"\\nLogical NOT:\")\n",
        "print(f\"not {a} = {not a}\")\n",
        "print(f\"not {b} = {not b}\")\n"
      ],
      "metadata": {
        "colab": {
          "base_uri": "https://localhost:8080/"
        },
        "id": "6iEqqHTAXM9U",
        "outputId": "94674090-401a-44ec-b118-42c51570db50"
      },
      "execution_count": 23,
      "outputs": [
        {
          "output_type": "stream",
          "name": "stdout",
          "text": [
            "Logical AND:\n",
            "True and False = False\n",
            "\n",
            "Logical OR:\n",
            "True or False = True\n",
            "\n",
            "Logical NOT:\n",
            "not True = False\n",
            "not False = True\n"
          ]
        }
      ]
    },
    {
      "cell_type": "code",
      "source": [
        "#9. Write a Python program to convert user input from string to integer, float, and boolean types.\n",
        "a=input(\"enter a value\")\n",
        "print(f\"integer value of a is {int(a)}\")\n",
        "print(f\"float value of a is {float(a)}\")\n",
        "print(f\"boolean value of a is {bool(a)}\")"
      ],
      "metadata": {
        "colab": {
          "base_uri": "https://localhost:8080/"
        },
        "id": "k4Abf_6xYgVc",
        "outputId": "84ad7962-ec0f-48d2-ff2a-30197edb8e9c"
      },
      "execution_count": 25,
      "outputs": [
        {
          "output_type": "stream",
          "name": "stdout",
          "text": [
            "enter a value 10\n",
            "integer value of a is 10\n",
            "float value of a is 10.0\n",
            "boolean value of a is True\n"
          ]
        }
      ]
    },
    {
      "cell_type": "code",
      "source": [
        "# 10. Write code to demonstrate type casting with list elements.\n",
        "l=[1,2,3,4,5]\n",
        "for i in l:\n",
        "  type(i)"
      ],
      "metadata": {
        "id": "OEtXwQsKZNab"
      },
      "execution_count": 28,
      "outputs": []
    },
    {
      "cell_type": "markdown",
      "source": [],
      "metadata": {
        "id": "2wHrkbsPakK7"
      }
    },
    {
      "cell_type": "code",
      "source": [
        "# 11. Write a program that checks if a number is positive, negative, or zero.\n",
        "n=int(input(\"enter a number\"))\n",
        "if n>0:\n",
        "  print(\"the number is positive\")\n",
        "elif n<0:\n",
        "  print(\"the number is negative\")\n",
        "else:\n",
        "  print(\"the number is zero\")\n"
      ],
      "metadata": {
        "colab": {
          "base_uri": "https://localhost:8080/"
        },
        "id": "fTCkg5Siaduo",
        "outputId": "dec9e8f9-d68c-48b2-f65e-4d84f23b8705"
      },
      "execution_count": 29,
      "outputs": [
        {
          "output_type": "stream",
          "name": "stdout",
          "text": [
            "enter a number -34\n",
            "the number is negative\n"
          ]
        }
      ]
    },
    {
      "cell_type": "code",
      "source": [
        "# 12. Write a for loop to print numbers from 1 to 10\n",
        "for i in range(1,11):\n",
        "  print(i,end=\" \" )"
      ],
      "metadata": {
        "colab": {
          "base_uri": "https://localhost:8080/"
        },
        "id": "uousaeaoa-h_",
        "outputId": "a63f56b3-1310-427a-aff9-9a1eb8e20dae"
      },
      "execution_count": 32,
      "outputs": [
        {
          "output_type": "stream",
          "name": "stdout",
          "text": [
            "1 2 3 4 5 6 7 8 9 10 "
          ]
        }
      ]
    },
    {
      "cell_type": "code",
      "source": [
        "# 13. Write a Python program to find the sum of all even numbers between 1 and 50.\n",
        "s=0\n",
        "for i in range(1,51):\n",
        "  if i%2==0:\n",
        "    s=s+i\n",
        "print(s)\n",
        "\n",
        "\n"
      ],
      "metadata": {
        "colab": {
          "base_uri": "https://localhost:8080/"
        },
        "id": "ltW4AZ8gZmQ-",
        "outputId": "67a60b0a-e9f6-458b-b39e-695da1a1dd0c"
      },
      "execution_count": 36,
      "outputs": [
        {
          "output_type": "stream",
          "name": "stdout",
          "text": [
            "650\n"
          ]
        }
      ]
    },
    {
      "cell_type": "code",
      "source": [
        "#14. Write a program to reverse a string using a while loop.\n",
        "s=input(\"enter a string\")\n",
        "i=len(s)-1\n",
        "while i>=0:\n",
        "  print(s[i],end=\"\")\n",
        "  i=i-1\n"
      ],
      "metadata": {
        "id": "8QrbT6Zicmre",
        "outputId": "c43c9607-44f4-4610-a8c6-3da5de78fc0b",
        "colab": {
          "base_uri": "https://localhost:8080/"
        }
      },
      "execution_count": 41,
      "outputs": [
        {
          "output_type": "stream",
          "name": "stdout",
          "text": [
            "enter a string ajay\n",
            "yaja "
          ]
        }
      ]
    },
    {
      "cell_type": "code",
      "source": [
        "#15. Write a Python program to calculate the factorial of a number provided by the user using a while loop\n",
        "n=int(input(\"enter a number: \"))\n",
        "while n>=0:\n",
        "  if n==0:\n",
        "    fact=1\n",
        "  else:\n",
        "    fact=1\n",
        "    for i in range(1,n+1):\n",
        "      fact=fact*i\n",
        "  print(f\"factorial of {n} is {fact}\")\n",
        "  break\n",
        "\n",
        "\n"
      ],
      "metadata": {
        "id": "HgAPhinPbv_f",
        "outputId": "b7ed7116-6edd-425f-e41e-1ba99b58c6b0",
        "colab": {
          "base_uri": "https://localhost:8080/"
        }
      },
      "execution_count": 40,
      "outputs": [
        {
          "output_type": "stream",
          "name": "stdout",
          "text": [
            "enter a number: 4\n",
            "factorial of 4 is 24\n"
          ]
        }
      ]
    }
  ]
}